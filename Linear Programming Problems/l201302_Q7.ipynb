{
 "cells": [
  {
   "cell_type": "code",
   "execution_count": 1,
   "outputs": [],
   "source": [
    "from pulp import *"
   ],
   "metadata": {
    "collapsed": false,
    "pycharm": {
     "name": "#%%\n"
    }
   }
  },
  {
   "cell_type": "code",
   "execution_count": 3,
   "outputs": [],
   "source": [
    "# X1 = Number of Student models produced each week\n",
    "# X2 = Number of Plus models produced each week\n",
    "# X3 = Number of Net models produced each week\n",
    "# X4 = Number of Pro models produced each week\n",
    "# MAX 70X1 + 80X2 + 130X3 + 150X4\n",
    "# S.T.\n",
    "#\n",
    "# X3  100 (Contract)\n",
    "# .4X1 + .5X2 + .6X3 + .8X4  750 (Production Hours)\n",
    "# X1 + + X3  700 (Celeron)\n",
    "# X2 + X4  550 (Pentium)\n",
    "# X1 + X2 + X3 +  800 (20gb Hard Drives)\n",
    "# X4  950 (30gb Hard Drives)\n",
    "# X1 + X2 + 2X3 + X4  1600 (Floppy Drives)\n",
    "# X1 + X2 + X4  1000 (Zip Drives)\n",
    "# X1 + X3 + X4  1600 (CD R/W's)\n",
    "# X2 + X3 + X4  900 (DVD's)\n",
    "# X1 + X2  850 (15-in. monitors)\n",
    "# X3 + X4  800 (17-in. monitors)\n",
    "# X2 + X3  1250 (Mini-tower cases)\n",
    "# X1 + X4  750 (Tower cases)\n",
    "#\n",
    "# All X's  0"
   ],
   "metadata": {
    "collapsed": false,
    "pycharm": {
     "name": "#%%\n"
    }
   }
  },
  {
   "cell_type": "code",
   "execution_count": null,
   "outputs": [],
   "source": [],
   "metadata": {
    "collapsed": false,
    "pycharm": {
     "name": "#%%\n"
    }
   }
  },
  {
   "cell_type": "code",
   "execution_count": 5,
   "outputs": [],
   "source": [
    "# defining the type of problem\n",
    "modelsProblem = LpProblem(\"Models_Problem\", LpMaximize)"
   ],
   "metadata": {
    "collapsed": false,
    "pycharm": {
     "name": "#%%\n"
    }
   }
  },
  {
   "cell_type": "code",
   "execution_count": null,
   "outputs": [],
   "source": [],
   "metadata": {
    "collapsed": false,
    "pycharm": {
     "name": "#%%\n"
    }
   }
  },
  {
   "cell_type": "code",
   "execution_count": 6,
   "outputs": [],
   "source": [
    "# Decision Variables with their lower bounds\n",
    "x1 = LpVariable(\"x1\", 0) # Number of Student models produced each week\n",
    "x2 = LpVariable(\"x2\", 0) # Number of Plus models produced each week\n",
    "x3 = LpVariable(\"x3\", 0) # Number of Net models produced each week\n",
    "x4 = LpVariable(\"x4\", 0) # Number of Pro models produced each week"
   ],
   "metadata": {
    "collapsed": false,
    "pycharm": {
     "name": "#%%\n"
    }
   }
  },
  {
   "cell_type": "code",
   "execution_count": 8,
   "outputs": [],
   "source": [
    "# Objective function for maximizing models production\n",
    "modelsProblem += 70*x1 + 80*x2 + 130*x3 + 150*x4"
   ],
   "metadata": {
    "collapsed": false,
    "pycharm": {
     "name": "#%%\n"
    }
   }
  },
  {
   "cell_type": "code",
   "execution_count": null,
   "outputs": [],
   "source": [],
   "metadata": {
    "collapsed": false,
    "pycharm": {
     "name": "#%%\n"
    }
   }
  },
  {
   "cell_type": "code",
   "execution_count": 10,
   "outputs": [],
   "source": [
    "# constraint subject to models production problem\n",
    "modelsProblem += 1*x3 >= 100\n",
    "modelsProblem += 0.4*x1 + .5*x2 + .6*x3 + .8*x4 <= 750\n",
    "modelsProblem += 1*x1 + + 1*x3 <= 700\n",
    "modelsProblem += 1*x2 + 1*x4 <= 550\n",
    "modelsProblem += 1*x1 + 1*x2 + 1*x3  <= 800\n",
    "modelsProblem += 1*x4 <= 950\n",
    "modelsProblem += 1*x1 + 1*x2 + 2*x3 + 1*x4 <= 1600\n",
    "modelsProblem += 1*x1 + 1*x2 + 1*x4 <= 1000\n",
    "modelsProblem += 1*x1 + 1*x3 + 1*x4 <= 1600\n",
    "modelsProblem += 1*x2 + 1*x3 + 1*x4 <= 900\n",
    "modelsProblem += 1*x1 + 1*x2 <= 850\n",
    "modelsProblem += 1*x3 + 1*x4 <= 800\n",
    "modelsProblem += 1*x2 + 1*x3 <= 1250\n",
    "modelsProblem += 1*x1 + 1*x4 <= 750"
   ],
   "metadata": {
    "collapsed": false,
    "pycharm": {
     "name": "#%%\n"
    }
   }
  },
  {
   "cell_type": "code",
   "execution_count": 11,
   "outputs": [
    {
     "data": {
      "text/plain": "1"
     },
     "execution_count": 11,
     "metadata": {},
     "output_type": "execute_result"
    }
   ],
   "source": [
    "modelsProblem.solve()"
   ],
   "metadata": {
    "collapsed": false,
    "pycharm": {
     "name": "#%%\n"
    }
   }
  },
  {
   "cell_type": "code",
   "execution_count": null,
   "outputs": [],
   "source": [],
   "metadata": {
    "collapsed": false,
    "pycharm": {
     "name": "#%%\n"
    }
   }
  },
  {
   "cell_type": "code",
   "execution_count": 12,
   "outputs": [
    {
     "name": "stdout",
     "output_type": "stream",
     "text": [
      "status:  Optimal\n"
     ]
    }
   ],
   "source": [
    "\n",
    "# printing the status of the LP problem\n",
    "print(\"status: \", LpStatus[modelsProblem.status])"
   ],
   "metadata": {
    "collapsed": false,
    "pycharm": {
     "name": "#%%\n"
    }
   }
  },
  {
   "cell_type": "code",
   "execution_count": 13,
   "outputs": [
    {
     "name": "stdout",
     "output_type": "stream",
     "text": [
      "x1  =  325.0\n",
      "x2  =  100.0\n",
      "x3  =  375.0\n",
      "x4  =  425.0\n"
     ]
    }
   ],
   "source": [
    "\n",
    "for variable in modelsProblem.variables():\n",
    "    print(variable.name, \" = \", variable.varValue)\n"
   ],
   "metadata": {
    "collapsed": false,
    "pycharm": {
     "name": "#%%\n"
    }
   }
  },
  {
   "cell_type": "code",
   "execution_count": null,
   "outputs": [],
   "source": [],
   "metadata": {
    "collapsed": false,
    "pycharm": {
     "name": "#%%\n"
    }
   }
  },
  {
   "cell_type": "code",
   "execution_count": 15,
   "outputs": [
    {
     "name": "stdout",
     "output_type": "stream",
     "text": [
      "Optimal solution for the objective function { 70*x1 + 80*x2 + 130*x3 + 150*x4 } is  143250.0\n"
     ]
    }
   ],
   "source": [
    "\n",
    "print(\"Optimal solution for the objective function { 70*x1 + 80*x2 + 130*x3 + 150*x4 } is \", value(modelsProblem.objective))"
   ],
   "metadata": {
    "collapsed": false,
    "pycharm": {
     "name": "#%%\n"
    }
   }
  },
  {
   "cell_type": "code",
   "execution_count": null,
   "outputs": [],
   "source": [],
   "metadata": {
    "collapsed": false,
    "pycharm": {
     "name": "#%%\n"
    }
   }
  }
 ],
 "metadata": {
  "kernelspec": {
   "display_name": "Python 3",
   "language": "python",
   "name": "python3"
  },
  "language_info": {
   "codemirror_mode": {
    "name": "ipython",
    "version": 2
   },
   "file_extension": ".py",
   "mimetype": "text/x-python",
   "name": "python",
   "nbconvert_exporter": "python",
   "pygments_lexer": "ipython2",
   "version": "2.7.6"
  }
 },
 "nbformat": 4,
 "nbformat_minor": 0
}