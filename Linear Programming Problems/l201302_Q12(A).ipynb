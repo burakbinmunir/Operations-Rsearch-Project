{
 "cells": [
  {
   "cell_type": "code",
   "execution_count": 1,
   "outputs": [],
   "source": [
    "from pulp import *"
   ],
   "metadata": {
    "collapsed": false,
    "pycharm": {
     "name": "#%%\n"
    }
   }
  },
  {
   "cell_type": "code",
   "execution_count": 2,
   "outputs": [],
   "source": [
    "# X1 = Number of plates made per day\n",
    "# X2 = Number of mugs made per day\n",
    "# X3 = Number of steins made per day\n",
    "# X4 = Total daily production\n",
    "# MAX 2.50X1 + 3.25X2 + 3.90X3\n",
    "# S.T.\n",
    "# 2X1 + 3X2 + 6X3  1920 ((4)(8)(60) Molding min.)\n",
    "# 8X1 + 12X2 + 14X3  3840 ((8)(8)(60) Finishing min.)\n",
    "# X2  150 (Minimum mugs)\n",
    "#\n",
    "# -2X1 - 2X2 + X3  0 (Steins  2(Plates + Mugs)\n",
    "# X1 + X2 + X3 - X4 = 0 (Total Definition)\n",
    "# X1 - .3X4  0 (Plates  30% Total Produced)\n",
    "# All X's  0"
   ],
   "metadata": {
    "collapsed": false,
    "pycharm": {
     "name": "#%%\n"
    }
   }
  },
  {
   "cell_type": "code",
   "execution_count": 3,
   "outputs": [],
   "source": [
    "# defining the type of problem\n",
    "crockeryProblem = LpProblem(\"Crockery_Production_Problem\", LpMaximize)"
   ],
   "metadata": {
    "collapsed": false,
    "pycharm": {
     "name": "#%%\n"
    }
   }
  },
  {
   "cell_type": "code",
   "execution_count": 4,
   "outputs": [],
   "source": [
    "# Decision Variables with their lower bounds\n",
    "x1 = LpVariable(\"x1\", 0) # Number of plates made per day\n",
    "x2 = LpVariable(\"x2\", 0) # Number of mugs made per day\n",
    "x3 = LpVariable(\"x3\", 0) # Number of steins made per day\n",
    "x4 = LpVariable(\"x4\", 0) # Total daily production"
   ],
   "metadata": {
    "collapsed": false,
    "pycharm": {
     "name": "#%%\n"
    }
   }
  },
  {
   "cell_type": "code",
   "execution_count": 5,
   "outputs": [],
   "source": [
    "# Objective function to be maximized\n",
    "crockeryProblem += 2.50*x1 + 3.25*x2 + 3.90*x3"
   ],
   "metadata": {
    "collapsed": false,
    "pycharm": {
     "name": "#%%\n"
    }
   }
  },
  {
   "cell_type": "code",
   "execution_count": 6,
   "outputs": [],
   "source": [
    "# constraint for standard & industrial production problem\n",
    "crockeryProblem += 2*x1 + 3*x2 + 6*x3 <= 1920\n",
    "crockeryProblem += 8*x1 + 12*x2 + 14*x3 <= 3840\n",
    "crockeryProblem += 1*x2 >= 150\n",
    "crockeryProblem += -2*x1 - 2*x2 + 1*x3 <= 0\n",
    "crockeryProblem += 1*x1 + 1*x2 + 1*x3 - 1*x4 == 0\n",
    "crockeryProblem += 1*x1 - 0.3*x4 <= 0"
   ],
   "metadata": {
    "collapsed": false,
    "pycharm": {
     "name": "#%%\n"
    }
   }
  },
  {
   "cell_type": "code",
   "execution_count": 7,
   "outputs": [
    {
     "data": {
      "text/plain": "1"
     },
     "execution_count": 7,
     "metadata": {},
     "output_type": "execute_result"
    }
   ],
   "source": [
    "# solving the problem\n",
    "crockeryProblem.solve()"
   ],
   "metadata": {
    "collapsed": false,
    "pycharm": {
     "name": "#%%\n"
    }
   }
  },
  {
   "cell_type": "code",
   "execution_count": 8,
   "outputs": [
    {
     "name": "stdout",
     "output_type": "stream",
     "text": [
      "status:  Optimal\n"
     ]
    }
   ],
   "source": [
    "\n",
    "# printing the status of the LP problem\n",
    "print(\"status: \", LpStatus[crockeryProblem.status])\n"
   ],
   "metadata": {
    "collapsed": false,
    "pycharm": {
     "name": "#%%\n"
    }
   }
  },
  {
   "cell_type": "code",
   "execution_count": 9,
   "outputs": [
    {
     "name": "stdout",
     "output_type": "stream",
     "text": [
      "x1  =  101.80328\n",
      "x2  =  150.0\n",
      "x3  =  87.540984\n",
      "x4  =  339.34426\n"
     ]
    }
   ],
   "source": [
    "\n",
    "for variable in crockeryProblem.variables():\n",
    "    print(variable.name, \" = \", variable.varValue)\n"
   ],
   "metadata": {
    "collapsed": false,
    "pycharm": {
     "name": "#%%\n"
    }
   }
  },
  {
   "cell_type": "code",
   "execution_count": 11,
   "outputs": [
    {
     "name": "stdout",
     "output_type": "stream",
     "text": [
      "Optimal solution for the objective function { 2.50*x1 + 3.25*x2 + 3.90*x3 } is  1083.4180376\n"
     ]
    }
   ],
   "source": [
    "\n",
    "print(\"Optimal solution for the objective function { 2.50*x1 + 3.25*x2 + 3.90*x3 } is \", value(crockeryProblem.objective))"
   ],
   "metadata": {
    "collapsed": false,
    "pycharm": {
     "name": "#%%\n"
    }
   }
  },
  {
   "cell_type": "code",
   "execution_count": null,
   "outputs": [],
   "source": [],
   "metadata": {
    "collapsed": false,
    "pycharm": {
     "name": "#%%\n"
    }
   }
  }
 ],
 "metadata": {
  "kernelspec": {
   "display_name": "Python 3",
   "language": "python",
   "name": "python3"
  },
  "language_info": {
   "codemirror_mode": {
    "name": "ipython",
    "version": 2
   },
   "file_extension": ".py",
   "mimetype": "text/x-python",
   "name": "python",
   "nbconvert_exporter": "python",
   "pygments_lexer": "ipython2",
   "version": "2.7.6"
  }
 },
 "nbformat": 4,
 "nbformat_minor": 0
}