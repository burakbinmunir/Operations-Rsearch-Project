{
 "cells": [
  {
   "cell_type": "code",
   "execution_count": 1,
   "outputs": [],
   "source": [
    "from pulp import *"
   ],
   "metadata": {
    "collapsed": false,
    "pycharm": {
     "name": "#%%\n"
    }
   }
  },
  {
   "cell_type": "code",
   "execution_count": 2,
   "outputs": [],
   "source": [
    "#\n",
    "# X1 = number of 8-oz. portions of steak in the diet\n",
    "# X2 = number of ounces of cheese in the diet\n",
    "# X3 = number of apples in the diet\n",
    "# X4 = number of 8-oz. portion of milk in the diet\n",
    "# MIN 51X1 + 9X2 + 1X3 + 8X4\n",
    "# S.T.\n",
    "# 692X1 + 110X2 + 81X3 + 150X4  1410 (=1800-390 minimum calories)\n",
    "# 692X1 + 110X2 + 81X3 + 150X4  1610 (=2000-390 maximum calories)\n",
    "# 57X1 + 6X2 + 1X3 + 8X4  85 (=100-15 grams of protein)\n",
    "# 1X2 + 22X3 + 12X4  25 (= 45-20 grams of carbs.)\n",
    "#\n",
    "# All X's  0"
   ],
   "metadata": {
    "collapsed": false,
    "pycharm": {
     "name": "#%%\n"
    }
   }
  },
  {
   "cell_type": "code",
   "execution_count": 3,
   "outputs": [],
   "source": [
    "# defining the type of problem\n",
    "dietProblem = LpProblem(\"Diet_Plan_Problem\", LpMinimize)"
   ],
   "metadata": {
    "collapsed": false,
    "pycharm": {
     "name": "#%%\n"
    }
   }
  },
  {
   "cell_type": "code",
   "execution_count": 5,
   "outputs": [],
   "source": [
    "# Decision Variables with their lower bounds\n",
    "x1 = LpVariable(\"x1\", 0) # number of 8-oz. portions of steak in the diet\n",
    "x2 = LpVariable(\"x2\", 0) # number of ounces of cheese in the diet\n",
    "x3 = LpVariable(\"x3\", 0) # number of apples in the diet\n",
    "x4 = LpVariable(\"x4\", 0) # number of 8-oz. portion of milk in the diet"
   ],
   "metadata": {
    "collapsed": false,
    "pycharm": {
     "name": "#%%\n"
    }
   }
  },
  {
   "cell_type": "code",
   "execution_count": 5,
   "outputs": [],
   "source": [],
   "metadata": {
    "collapsed": false,
    "pycharm": {
     "name": "#%%\n"
    }
   }
  },
  {
   "cell_type": "code",
   "execution_count": 6,
   "outputs": [],
   "source": [
    "# defining the objective function for Diet Plan Minimization problem\n",
    "dietProblem += 51*x1 + 9*x2 + 1*x3 + 8*x4"
   ],
   "metadata": {
    "collapsed": false,
    "pycharm": {
     "name": "#%%\n"
    }
   }
  },
  {
   "cell_type": "code",
   "execution_count": 7,
   "outputs": [],
   "source": [
    "# constraint for standard & industrial production problem\n",
    "dietProblem += 692*x1 + 110*x2 + 81*x3 + 150*x4 >= 1410\n",
    "dietProblem += 692*x1 + 110*x2 + 81*x3 + 150*x4 <= 1610\n",
    "dietProblem += 57*x1 + 6*x2 + 1*x3 + 8*x4 >= 85\n",
    "dietProblem += 1*x2 + 22*x3 + 12*x4 >= 25"
   ],
   "metadata": {
    "collapsed": false,
    "pycharm": {
     "name": "#%%\n"
    }
   }
  },
  {
   "cell_type": "code",
   "execution_count": 8,
   "outputs": [
    {
     "data": {
      "text/plain": "1"
     },
     "execution_count": 8,
     "metadata": {},
     "output_type": "execute_result"
    }
   ],
   "source": [
    "# determing the solution to the diet problem\n",
    "dietProblem.solve()"
   ],
   "metadata": {
    "collapsed": false,
    "pycharm": {
     "name": "#%%\n"
    }
   }
  },
  {
   "cell_type": "code",
   "execution_count": null,
   "outputs": [],
   "source": [],
   "metadata": {
    "collapsed": false,
    "pycharm": {
     "name": "#%%\n"
    }
   }
  },
  {
   "cell_type": "code",
   "execution_count": 9,
   "outputs": [
    {
     "name": "stdout",
     "output_type": "stream",
     "text": [
      "status:  Optimal\n"
     ]
    }
   ],
   "source": [
    "\n",
    "# printing the status of the LP problem\n",
    "print(\"status: \", LpStatus[dietProblem.status])"
   ],
   "metadata": {
    "collapsed": false,
    "pycharm": {
     "name": "#%%\n"
    }
   }
  },
  {
   "cell_type": "code",
   "execution_count": null,
   "outputs": [],
   "source": [],
   "metadata": {
    "collapsed": false,
    "pycharm": {
     "name": "#%%\n"
    }
   }
  },
  {
   "cell_type": "code",
   "execution_count": 10,
   "outputs": [
    {
     "name": "stdout",
     "output_type": "stream",
     "text": [
      "x1  =  1.3949045\n",
      "x2  =  0.0\n",
      "x3  =  5.4904459\n",
      "x4  =  0.0\n"
     ]
    }
   ],
   "source": [
    "\n",
    "for variable in dietProblem.variables():\n",
    "    print(variable.name, \" = \", variable.varValue)"
   ],
   "metadata": {
    "collapsed": false,
    "pycharm": {
     "name": "#%%\n"
    }
   }
  },
  {
   "cell_type": "code",
   "execution_count": null,
   "outputs": [],
   "source": [],
   "metadata": {
    "collapsed": false,
    "pycharm": {
     "name": "#%%\n"
    }
   }
  },
  {
   "cell_type": "code",
   "execution_count": 13,
   "outputs": [
    {
     "name": "stdout",
     "output_type": "stream",
     "text": [
      "Optimal solution for the objective function {51*x1 + 9*x2 + 1*x3 + 8*x4 } is  76.6305754\n"
     ]
    }
   ],
   "source": [
    "\n",
    "print(\"Optimal solution for the objective function {51*x1 + 9*x2 + 1*x3 + 8*x4 } is \", value(dietProblem.objective))"
   ],
   "metadata": {
    "collapsed": false,
    "pycharm": {
     "name": "#%%\n"
    }
   }
  },
  {
   "cell_type": "code",
   "execution_count": null,
   "outputs": [],
   "source": [],
   "metadata": {
    "collapsed": false,
    "pycharm": {
     "name": "#%%\n"
    }
   }
  }
 ],
 "metadata": {
  "kernelspec": {
   "display_name": "Python 3",
   "language": "python",
   "name": "python3"
  },
  "language_info": {
   "codemirror_mode": {
    "name": "ipython",
    "version": 2
   },
   "file_extension": ".py",
   "mimetype": "text/x-python",
   "name": "python",
   "nbconvert_exporter": "python",
   "pygments_lexer": "ipython2",
   "version": "2.7.6"
  }
 },
 "nbformat": 4,
 "nbformat_minor": 0
}