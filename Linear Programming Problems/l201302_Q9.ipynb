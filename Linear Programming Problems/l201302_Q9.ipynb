{
 "cells": [
  {
   "cell_type": "code",
   "execution_count": 3,
   "outputs": [],
   "source": [
    "from pulp import *"
   ],
   "metadata": {
    "collapsed": false,
    "pycharm": {
     "name": "#%%\n"
    }
   }
  },
  {
   "cell_type": "code",
   "execution_count": 4,
   "outputs": [],
   "source": [
    "# X1 = the number in group I contacted by telephone\n",
    "# X2 = the number in group II contacted by telephone\n",
    "# X3 = the number in group III contacted by telephone\n",
    "# X4 = the number in group IV contacted by telephone\n",
    "# X5 = the number in group I contacted in person\n",
    "# X6 = the number in group II contacted in person\n",
    "# X7 = the number in group III contacted in person\n",
    "# X8 = the number in group IV contacted in person\n",
    "# MIN 15X1 + 12X2 + 20X3 + 18X4 + 35X5 + 30X6 + 50X7 + 40X8\n",
    "# S.T. X1 + X2 + X3 + X4 + X5 + X6 + X7 + X8 = 2000 (Total)\n",
    "# X1 + X2 + X5 + X6  1000 (W&R)\n",
    "# X5 + X6 + X7 + X8  500 (In person)\n",
    "# -.5X1 + .5X5  0 (W&R,ip)\n",
    "# X2 + X4 + X6 + X8  800(Small)\n",
    "# - .25X2 - .25X4+ .75X6 + .75X8  0 (Small,ip)\n",
    "# X1 + X5  200 (Min I)\n",
    "# X2 + X6  200 (Min II)\n",
    "#\n",
    "# X3 + X7  200 (Min III)\n",
    "# X4 + X8  200 (Min IV)\n",
    "# X1 + X5  1000 (Max I)\n",
    "# X2 + X6  1000 (Max II)\n",
    "# X3 + X7  1000 (Max III)\n",
    "# X4 + X8  1000 (Max IV)\n",
    "#\n",
    "# All X's 0"
   ],
   "metadata": {
    "collapsed": false,
    "pycharm": {
     "name": "#%%\n"
    }
   }
  },
  {
   "cell_type": "code",
   "execution_count": 5,
   "outputs": [],
   "source": [
    "# defining the type of problem\n",
    "contactProblem = LpProblem(\"Person_Contact_Problem\", LpMinimize)"
   ],
   "metadata": {
    "collapsed": false,
    "pycharm": {
     "name": "#%%\n"
    }
   }
  },
  {
   "cell_type": "code",
   "execution_count": 6,
   "outputs": [],
   "source": [
    "# Decision Variables with their lower bounds\n",
    "x1 = LpVariable(\"x1\", 0) # the number in group I contacted by telephone\n",
    "x2 = LpVariable(\"x2\", 0) # the number in group II contacted by telephone\n",
    "x3 = LpVariable(\"x3\", 0) # the number in group III contacted by telephone\n",
    "x4 = LpVariable(\"x4\", 0) # the number in group IV contacted by telephone\n",
    "x5 = LpVariable(\"x5\", 0) # the number in group I contacted in person\n",
    "x6 = LpVariable(\"x6\", 0) # the number in group II contacted in person\n",
    "x7 = LpVariable(\"x7\", 0) # the number in group III contacted in person\n",
    "x8 = LpVariable(\"x8\", 0) # = the number in group IV contacted in person"
   ],
   "metadata": {
    "collapsed": false,
    "pycharm": {
     "name": "#%%\n"
    }
   }
  },
  {
   "cell_type": "code",
   "execution_count": 7,
   "outputs": [],
   "source": [
    "# Objective function to be maximized\n",
    "contactProblem += 15*x1 + 12*x2 + 20*x3 + 18*x4 + 35*x5 + 30*x6 + 50*x7 + 40*x8"
   ],
   "metadata": {
    "collapsed": false,
    "pycharm": {
     "name": "#%%\n"
    }
   }
  },
  {
   "cell_type": "code",
   "execution_count": 8,
   "outputs": [],
   "source": [
    "# constraint for contact problem\n",
    "contactProblem += 1*x1 + 1*x2 + 1*x3 + 1*x4 + 1*x5 + 1*x6 + 1*x7 + 1*x8 == 2000\n",
    "contactProblem += 1*x1 + 1*x2 + 1*x5 + 1*x6 >= 1000\n",
    "contactProblem += 1*x5 + 1*x6 + 1*x7 + 1*x8 >= 500\n",
    "contactProblem += -0.5*x1 + 0.5*x5 >= 0\n",
    "contactProblem += 1*x2 + 1*x4 + 1*x6 + 1*x8 <= 800\n",
    "contactProblem += - 0.25*x2 - 0.25*x4+ 0.75*x6 + 0.75*x8 <= 0\n",
    "contactProblem += 1*x1 + 1*x5 >= 200\n",
    "contactProblem += 1*x2 + 1*x6 >= 200\n",
    "contactProblem += 1*x3 + 1*x7 >= 200\n",
    "contactProblem += 1*x4 + 1*x8 >= 200\n",
    "contactProblem += 1*x1 + 1*x5 <= 1000\n",
    "contactProblem += 1*x2 + 1*x6 <= 1000\n",
    "contactProblem += 1*x3 + 1*x7 <= 1000\n",
    "contactProblem += 1*x4 + 1*x8 <= 1000"
   ],
   "metadata": {
    "collapsed": false,
    "pycharm": {
     "name": "#%%\n"
    }
   }
  },
  {
   "cell_type": "code",
   "execution_count": 9,
   "outputs": [
    {
     "data": {
      "text/plain": "1"
     },
     "execution_count": 9,
     "metadata": {},
     "output_type": "execute_result"
    }
   ],
   "source": [
    "# solving the problem\n",
    "contactProblem.solve()"
   ],
   "metadata": {
    "collapsed": false,
    "pycharm": {
     "name": "#%%\n"
    }
   }
  },
  {
   "cell_type": "code",
   "execution_count": 10,
   "outputs": [
    {
     "name": "stdout",
     "output_type": "stream",
     "text": [
      "status:  Optimal\n"
     ]
    }
   ],
   "source": [
    "\n",
    "# printing the status of the LP problem\n",
    "print(\"status: \", LpStatus[contactProblem.status])\n"
   ],
   "metadata": {
    "collapsed": false,
    "pycharm": {
     "name": "#%%\n"
    }
   }
  },
  {
   "cell_type": "code",
   "execution_count": 11,
   "outputs": [
    {
     "name": "stdout",
     "output_type": "stream",
     "text": [
      "x1  =  500.0\n",
      "x2  =  600.0\n",
      "x3  =  200.0\n",
      "x4  =  200.0\n",
      "x5  =  500.0\n",
      "x6  =  0.0\n",
      "x7  =  0.0\n",
      "x8  =  0.0\n"
     ]
    }
   ],
   "source": [
    "\n",
    "for variable in contactProblem.variables():\n",
    "    print(variable.name, \" = \", variable.varValue)\n"
   ],
   "metadata": {
    "collapsed": false,
    "pycharm": {
     "name": "#%%\n"
    }
   }
  },
  {
   "cell_type": "code",
   "execution_count": 13,
   "outputs": [
    {
     "name": "stdout",
     "output_type": "stream",
     "text": [
      "Optimal solution for the objective function { 15*x1 + 12*x2 + 20*x3 + 18*x4 + 35*x5 + 30*x6 + 50*x7 + 40*x8 } is  39800.0\n"
     ]
    }
   ],
   "source": [
    "\n",
    "print(\"Optimal solution for the objective function { 15*x1 + 12*x2 + 20*x3 + 18*x4 + 35*x5 + 30*x6 + 50*x7 + 40*x8 } is \", value(contactProblem.objective))"
   ],
   "metadata": {
    "collapsed": false,
    "pycharm": {
     "name": "#%%\n"
    }
   }
  },
  {
   "cell_type": "code",
   "execution_count": null,
   "metadata": {
    "collapsed": true
   },
   "outputs": [],
   "source": []
  }
 ],
 "metadata": {
  "kernelspec": {
   "display_name": "Python 3",
   "language": "python",
   "name": "python3"
  },
  "language_info": {
   "codemirror_mode": {
    "name": "ipython",
    "version": 2
   },
   "file_extension": ".py",
   "mimetype": "text/x-python",
   "name": "python",
   "nbconvert_exporter": "python",
   "pygments_lexer": "ipython2",
   "version": "2.7.6"
  }
 },
 "nbformat": 4,
 "nbformat_minor": 0
}