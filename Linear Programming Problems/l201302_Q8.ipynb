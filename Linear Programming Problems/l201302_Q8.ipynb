{
 "cells": [
  {
   "cell_type": "code",
   "execution_count": null,
   "metadata": {
    "collapsed": true
   },
   "outputs": [],
   "source": []
  },
  {
   "cell_type": "code",
   "execution_count": 2,
   "outputs": [],
   "source": [
    "from pulp import *"
   ],
   "metadata": {
    "collapsed": false,
    "pycharm": {
     "name": "#%%\n"
    }
   }
  },
  {
   "cell_type": "code",
   "execution_count": 3,
   "outputs": [],
   "source": [
    "# X1 = the number of Delta assemblies produced daily\n",
    "# X2 = the number of Omega assemblies produced daily\n",
    "# X3 = the number of Theta assemblies produced daily\n",
    "# MAX 800X1 + 900X2 + 600X3\n",
    "# S.T. X1 + X2 + X3  7 (X70686 chips)\n",
    "# 2X1 + X2 + X3  8 (Production hours)\n",
    "# 80X1 + 160X2 + 80X3  480 (Quality minutes)\n",
    "# All X's  0"
   ],
   "metadata": {
    "collapsed": false,
    "pycharm": {
     "name": "#%%\n"
    }
   }
  },
  {
   "cell_type": "code",
   "execution_count": 4,
   "outputs": [],
   "source": [
    "# defining the type of problem\n",
    "assembliesProblem = LpProblem(\"Assemblies_Production_Problem\", LpMaximize)"
   ],
   "metadata": {
    "collapsed": false,
    "pycharm": {
     "name": "#%%\n"
    }
   }
  },
  {
   "cell_type": "code",
   "execution_count": 5,
   "outputs": [],
   "source": [
    "# Decision Variables with their lower bounds\n",
    "x1 = LpVariable(\"x1\", 0) # the number of Delta assemblies produced daily\n",
    "x3 = LpVariable(\"x3\", 0) # the number of Omega assemblies produced daily\n",
    "x2 = LpVariable(\"x2\", 0) # the number of Theta assemblies produced daily"
   ],
   "metadata": {
    "collapsed": false,
    "pycharm": {
     "name": "#%%\n"
    }
   }
  },
  {
   "cell_type": "code",
   "execution_count": 6,
   "outputs": [],
   "source": [
    "# Objective function to be maximized\n",
    "assembliesProblem += 800*x1 + 900*x2 + 600*x3"
   ],
   "metadata": {
    "collapsed": false,
    "pycharm": {
     "name": "#%%\n"
    }
   }
  },
  {
   "cell_type": "code",
   "execution_count": 7,
   "outputs": [],
   "source": [
    "# constraint for standard & industrial production problem\n",
    "assembliesProblem += 1*x1 + 1*x2 + 1*x3 <= 7\n",
    "assembliesProblem += 2*x1 + 1*x2 + 1*x3 <= 8\n",
    "assembliesProblem += 80*x1 + 160*x2 + 80*x3 <= 480"
   ],
   "metadata": {
    "collapsed": false,
    "pycharm": {
     "name": "#%%\n"
    }
   }
  },
  {
   "cell_type": "code",
   "execution_count": 8,
   "outputs": [
    {
     "data": {
      "text/plain": "1"
     },
     "execution_count": 8,
     "metadata": {},
     "output_type": "execute_result"
    }
   ],
   "source": [
    "# solving the problem\n",
    "assembliesProblem.solve()"
   ],
   "metadata": {
    "collapsed": false,
    "pycharm": {
     "name": "#%%\n"
    }
   }
  },
  {
   "cell_type": "code",
   "execution_count": 9,
   "outputs": [
    {
     "name": "stdout",
     "output_type": "stream",
     "text": [
      "status:  Optimal\n"
     ]
    }
   ],
   "source": [
    "\n",
    "# printing the status of the LP problem\n",
    "print(\"status: \", LpStatus[assembliesProblem.status])\n"
   ],
   "metadata": {
    "collapsed": false,
    "pycharm": {
     "name": "#%%\n"
    }
   }
  },
  {
   "cell_type": "code",
   "execution_count": 10,
   "outputs": [
    {
     "name": "stdout",
     "output_type": "stream",
     "text": [
      "x1  =  2.0\n",
      "x2  =  0.0\n",
      "x3  =  4.0\n"
     ]
    }
   ],
   "source": [
    "\n",
    "for variable in assembliesProblem.variables():\n",
    "    print(variable.name, \" = \", variable.varValue)\n"
   ],
   "metadata": {
    "collapsed": false,
    "pycharm": {
     "name": "#%%\n"
    }
   }
  },
  {
   "cell_type": "code",
   "execution_count": 12,
   "outputs": [
    {
     "name": "stdout",
     "output_type": "stream",
     "text": [
      "Optimal solution for the objective function {800*x1 + 900*x2 + 600*x3 } is  4000.0\n"
     ]
    }
   ],
   "source": [
    "\n",
    "print(\"Optimal solution for the objective function {800*x1 + 900*x2 + 600*x3 } is \", value(assembliesProblem.objective))"
   ],
   "metadata": {
    "collapsed": false,
    "pycharm": {
     "name": "#%%\n"
    }
   }
  },
  {
   "cell_type": "code",
   "execution_count": null,
   "outputs": [],
   "source": [],
   "metadata": {
    "collapsed": false,
    "pycharm": {
     "name": "#%%\n"
    }
   }
  }
 ],
 "metadata": {
  "kernelspec": {
   "display_name": "Python 3",
   "language": "python",
   "name": "python3"
  },
  "language_info": {
   "codemirror_mode": {
    "name": "ipython",
    "version": 2
   },
   "file_extension": ".py",
   "mimetype": "text/x-python",
   "name": "python",
   "nbconvert_exporter": "python",
   "pygments_lexer": "ipython2",
   "version": "2.7.6"
  }
 },
 "nbformat": 4,
 "nbformat_minor": 0
}