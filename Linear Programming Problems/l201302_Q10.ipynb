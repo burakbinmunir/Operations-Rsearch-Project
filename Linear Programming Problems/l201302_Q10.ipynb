{
 "cells": [
  {
   "cell_type": "code",
   "execution_count": null,
   "outputs": [],
   "source": [],
   "metadata": {
    "collapsed": false,
    "pycharm": {
     "name": "#%%\n"
    }
   }
  },
  {
   "cell_type": "code",
   "execution_count": 1,
   "outputs": [],
   "source": [
    "from pulp import *"
   ],
   "metadata": {
    "collapsed": false,
    "pycharm": {
     "name": "#%%\n"
    }
   }
  },
  {
   "cell_type": "code",
   "execution_count": 4,
   "outputs": [],
   "source": [
    "# X1 = the number of ounces of Multigrain Cheerios in the mixture\n",
    "# X2 = the number of ounces of Grape Nuts in the mixture\n",
    "# X3 = the number of ounces of Product 19 in the mixture\n",
    "# X4 = the number of ounces of Frosted Bran in the mixture\n",
    "# X5 = the total number of ounces in the mixture\n",
    "# MIN 12X1 + 9X2 + 9X3 + 15X4\n",
    "# S.T. 30X1 + 30X2 + 20X3 + 20X4  50 (Vitamin A)\n",
    "# 25X1 + 2X2 + 100X3 + 25X4  50 (Vitamin C)\n",
    "# 25X1 + 25X2 + 25X3 + 25X4  50 (Vitamin D)\n",
    "# 25X1 + 25X2 + 100X3 + 25X4  50 (Vitamin B6)\n",
    "# 45X1 + 45X2 + 100X3 + 25X4  50 (Iron)\n",
    "# X1 + X2 + X3 + X4 - X5 = 0 (Total)\n",
    "# X1 - .1X5  0 ( 10% M/G Cheerios)\n",
    "# X2 - .1X5  0 ( 10% Grape Nuts)\n",
    "# X3 - .1X5  0 ( 10% Product 19)\n",
    "# X4 - .1X5  0 ( 10% Frosted Bran)\n",
    "#\n",
    "# All X's  0"
   ],
   "metadata": {
    "collapsed": false,
    "pycharm": {
     "name": "#%%\n"
    }
   }
  },
  {
   "cell_type": "code",
   "execution_count": 3,
   "outputs": [],
   "source": [
    "# defining the type of problem\n",
    "mixtureProblem = LpProblem(\"Mixture_Problem\", LpMinimize)"
   ],
   "metadata": {
    "collapsed": false,
    "pycharm": {
     "name": "#%%\n"
    }
   }
  },
  {
   "cell_type": "code",
   "execution_count": 4,
   "outputs": [],
   "source": [
    "# Decision Variables with their lower bounds\n",
    "x1 = LpVariable(\"x1\", 0) # the number of ounces of Multigrain Cheerios in the mixture\n",
    "x2 = LpVariable(\"x2\", 0) # the number of ounces of Grape Nuts in the mixture\n",
    "x3 = LpVariable(\"x3\", 0) # the number of ounces of Product 19 in the mixture\n",
    "x4 = LpVariable(\"x4\", 0) # the number of ounces of Frosted Bran in the mixture\n",
    "x5 = LpVariable(\"x5\", 0) # the total number of ounces in the mixture"
   ],
   "metadata": {
    "collapsed": false,
    "pycharm": {
     "name": "#%%\n"
    }
   }
  },
  {
   "cell_type": "code",
   "execution_count": 5,
   "outputs": [],
   "source": [
    "# Objective function to be maximized\n",
    "mixtureProblem += 12*x1 + 9*x2 + 9*x3 + 15*x4"
   ],
   "metadata": {
    "collapsed": false,
    "pycharm": {
     "name": "#%%\n"
    }
   }
  },
  {
   "cell_type": "code",
   "execution_count": 6,
   "outputs": [],
   "source": [
    "# constraint for contact problem\n",
    "mixtureProblem += 30*x1 + 30*x2 + 20*x3 + 20*x4 >= 50\n",
    "mixtureProblem += 25*x1 + 2*x2 + 100*x3 + 25*x4 >= 50\n",
    "mixtureProblem += 25*x1 + 25*x2 + 25*x3 + 25*x4 >= 50\n",
    "mixtureProblem += 25*x1 + 25*x2 + 100*x3 + 25*x4 >= 50\n",
    "mixtureProblem += 45*x1 + 45*x2 + 100*x3 + 25*x4 >= 50\n",
    "mixtureProblem += 1*x1 + 1*x2 + 1*x3 + 1*x4 - 1*x5 == 0\n",
    "mixtureProblem += 1*x1 - 0.1*x5 >= 0\n",
    "mixtureProblem += 1*x2 - 0.1*x5 >= 0\n",
    "mixtureProblem += 1*x3 - 0.1*x5 >= 0\n",
    "mixtureProblem += 1*x4 - 0.1*x5 >= 0"
   ],
   "metadata": {
    "collapsed": false,
    "pycharm": {
     "name": "#%%\n"
    }
   }
  },
  {
   "cell_type": "code",
   "execution_count": 7,
   "outputs": [
    {
     "data": {
      "text/plain": "1"
     },
     "execution_count": 7,
     "metadata": {},
     "output_type": "execute_result"
    }
   ],
   "source": [
    "# solving the problem\n",
    "mixtureProblem.solve()"
   ],
   "metadata": {
    "collapsed": false,
    "pycharm": {
     "name": "#%%\n"
    }
   }
  },
  {
   "cell_type": "code",
   "execution_count": 8,
   "outputs": [
    {
     "name": "stdout",
     "output_type": "stream",
     "text": [
      "status:  Optimal\n"
     ]
    }
   ],
   "source": [
    "\n",
    "# printing the status of the LP problem\n",
    "print(\"status: \", LpStatus[mixtureProblem.status])\n"
   ],
   "metadata": {
    "collapsed": false,
    "pycharm": {
     "name": "#%%\n"
    }
   }
  },
  {
   "cell_type": "code",
   "execution_count": 9,
   "outputs": [
    {
     "name": "stdout",
     "output_type": "stream",
     "text": [
      "x1  =  0.2\n",
      "x2  =  1.2244898\n",
      "x3  =  0.3755102\n",
      "x4  =  0.2\n",
      "x5  =  2.0\n"
     ]
    }
   ],
   "source": [
    "\n",
    "for variable in mixtureProblem.variables():\n",
    "    print(variable.name, \" = \", variable.varValue)\n"
   ],
   "metadata": {
    "collapsed": false,
    "pycharm": {
     "name": "#%%\n"
    }
   }
  },
  {
   "cell_type": "code",
   "execution_count": 11,
   "outputs": [
    {
     "name": "stdout",
     "output_type": "stream",
     "text": [
      "Optimal solution for the objective function { 12*x1 + 9*x2 + 9*x3 + 15*x4 } is  19.8\n"
     ]
    }
   ],
   "source": [
    "\n",
    "print(\"Optimal solution for the objective function { 12*x1 + 9*x2 + 9*x3 + 15*x4 } is \", value(mixtureProblem.objective))"
   ],
   "metadata": {
    "collapsed": false,
    "pycharm": {
     "name": "#%%\n"
    }
   }
  },
  {
   "cell_type": "code",
   "execution_count": null,
   "metadata": {
    "collapsed": true
   },
   "outputs": [],
   "source": []
  }
 ],
 "metadata": {
  "kernelspec": {
   "display_name": "Python 3",
   "language": "python",
   "name": "python3"
  },
  "language_info": {
   "codemirror_mode": {
    "name": "ipython",
    "version": 2
   },
   "file_extension": ".py",
   "mimetype": "text/x-python",
   "name": "python",
   "nbconvert_exporter": "python",
   "pygments_lexer": "ipython2",
   "version": "2.7.6"
  }
 },
 "nbformat": 4,
 "nbformat_minor": 0
}