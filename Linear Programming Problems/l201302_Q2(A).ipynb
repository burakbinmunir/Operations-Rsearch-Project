{
 "cells": [
  {
   "cell_type": "code",
   "execution_count": 37,
   "outputs": [],
   "source": [
    "from pulp import *"
   ],
   "metadata": {
    "collapsed": false,
    "pycharm": {
     "name": "#%%\n"
    }
   }
  },
  {
   "cell_type": "code",
   "execution_count": 38,
   "outputs": [],
   "source": [
    "# X1 = Number of stoves produced weekly\n",
    "# X2 = Number of washers produced weekly\n",
    "# X3 = Number of electric dryers produced weekly\n",
    "# X4 = Number of gas dryers produced weekly\n",
    "# X5 = Number of refrigerators produced weekly\n",
    "# MAX 110X1 + 90X2 + 75X3 + 80X4 + 130X5\n",
    "# S.T.\n",
    "# 5.5X1 + 5.2X2 + 5.0X3 + 5.1X4 + 7.5X5  4800 (Molding/pressing)\n",
    "# 4.5X1  1200 (Stove assembly)\n",
    "# 4.5X2 + 4.0X3 + 3.0X4  2400 (Washer/dryer assembly)\n",
    "# 9.0X5  1200 (Refrigerator assembly)\n",
    "#\n",
    "# 4.0X1 + 3.0X2 + 2.5X3 + 2.0X4 + 4.0X5  3000 (Packaging)\n",
    "#\n",
    "# All X's  0"
   ],
   "metadata": {
    "collapsed": false,
    "pycharm": {
     "name": "#%%\n"
    }
   }
  },
  {
   "cell_type": "code",
   "execution_count": 39,
   "outputs": [],
   "source": [
    "# defining the problem as Linear Programming Maximization problem\n",
    "applianceProduction = LpProblem(\"Appliance_Production_Problem\", LpMaximize)"
   ],
   "metadata": {
    "collapsed": false,
    "pycharm": {
     "name": "#%%\n"
    }
   }
  },
  {
   "cell_type": "code",
   "execution_count": 40,
   "outputs": [],
   "source": [
    "# Decision Variables with their lower bounds\n",
    "x1 = LpVariable(\"x1\", 0) # Number of stoves produced weekly\n",
    "x2 = LpVariable(\"x2\", 0) # Number of washers produced weekly\n",
    "x3 = LpVariable(\"x3\", 0) # Number of electric dryers produced weekly\n",
    "x4 = LpVariable(\"x4\", 0) # Number of gas dryers produced weekly\n",
    "x5 = LpVariable(\"x5\", 0) # Number of refrigerators produced weekly"
   ],
   "metadata": {
    "collapsed": false,
    "pycharm": {
     "name": "#%%\n"
    }
   }
  },
  {
   "cell_type": "code",
   "execution_count": 41,
   "outputs": [],
   "source": [
    "# Objective function to be maximized\n",
    "applianceProduction += 110*x1 + 90*x2 + 75*x3 + 80*x4 + 130*x5\n"
   ],
   "metadata": {
    "collapsed": false,
    "pycharm": {
     "name": "#%%\n"
    }
   }
  },
  {
   "cell_type": "code",
   "execution_count": 42,
   "outputs": [],
   "source": [
    "# defining the constraints for the production\n",
    "applianceProduction += 5.5*x1 + 5.2*x2 + 5.0*x3 + 5.1*x4 + 7.5*x5 <= 4800, \"Molding and Pressing constraint\"\n",
    "applianceProduction += 4.5*x1 <= 1200, \"Stove Assembly constraint\"\n",
    "applianceProduction += 4.5*x2 + 4.0*x3 + 3.0*x4 <= 2400, \"Washer / Dryer Assembly constraint\"\n",
    "applianceProduction += 9.0*x5 <= 1200, \"Refrigerator assembly constraint\"\n",
    "applianceProduction += 4.0*x1 + 3.0*x2 + 2.5*x3 + 2.0*x4 + 4.0*x5 <= 3000, \"Packaging constraint\""
   ],
   "metadata": {
    "collapsed": false,
    "pycharm": {
     "name": "#%%\n"
    }
   }
  },
  {
   "cell_type": "code",
   "execution_count": 43,
   "outputs": [
    {
     "data": {
      "text/plain": "1"
     },
     "execution_count": 43,
     "metadata": {},
     "output_type": "execute_result"
    }
   ],
   "source": [
    "applianceProduction.solve()"
   ],
   "metadata": {
    "collapsed": false,
    "pycharm": {
     "name": "#%%\n"
    }
   }
  },
  {
   "cell_type": "code",
   "execution_count": 44,
   "outputs": [
    {
     "name": "stdout",
     "output_type": "stream",
     "text": [
      "status:  Optimal\n"
     ]
    }
   ],
   "source": [
    "\n",
    "# printing the status of the LP problem\n",
    "print(\"status: \", LpStatus[applianceProduction.status])\n"
   ],
   "metadata": {
    "collapsed": false,
    "pycharm": {
     "name": "#%%\n"
    }
   }
  },
  {
   "cell_type": "code",
   "execution_count": 45,
   "outputs": [
    {
     "name": "stdout",
     "output_type": "stream",
     "text": [
      "x1  =  266.66667\n",
      "x2  =  448.71795\n",
      "x3  =  0.0\n",
      "x4  =  0.0\n",
      "x5  =  133.33333\n"
     ]
    }
   ],
   "source": [
    "\n",
    "for variable in applianceProduction.variables():\n",
    "    print(variable.name, \" = \", variable.varValue)"
   ],
   "metadata": {
    "collapsed": false,
    "pycharm": {
     "name": "#%%\n"
    }
   }
  },
  {
   "cell_type": "code",
   "execution_count": 46,
   "outputs": [
    {
     "name": "stdout",
     "output_type": "stream",
     "text": [
      "Optimal solution for the objective function 27x1 + 32x2 + 38x3 + 51x4 is  87051.2821\n"
     ]
    }
   ],
   "source": [
    "\n",
    "print(\"Optimal solution for the objective function 27x1 + 32x2 + 38x3 + 51x4 is \", value(applianceProduction.objective))"
   ],
   "metadata": {
    "collapsed": false,
    "pycharm": {
     "name": "#%%\n"
    }
   }
  }
 ],
 "metadata": {
  "kernelspec": {
   "display_name": "Python 3",
   "language": "python",
   "name": "python3"
  },
  "language_info": {
   "codemirror_mode": {
    "name": "ipython",
    "version": 2
   },
   "file_extension": ".py",
   "mimetype": "text/x-python",
   "name": "python",
   "nbconvert_exporter": "python",
   "pygments_lexer": "ipython2",
   "version": "2.7.6"
  }
 },
 "nbformat": 4,
 "nbformat_minor": 0
}