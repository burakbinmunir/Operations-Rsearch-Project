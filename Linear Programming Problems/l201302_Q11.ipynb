{
 "cells": [
  {
   "cell_type": "code",
   "execution_count": 1,
   "outputs": [],
   "source": [
    "from pulp import *"
   ],
   "metadata": {
    "collapsed": false,
    "pycharm": {
     "name": "#%%\n"
    }
   }
  },
  {
   "cell_type": "code",
   "execution_count": 2,
   "outputs": [],
   "source": [
    "#X1 = Number of refrigerator/ovens produced\n",
    "# X2 = Number of French fry makers produced\n",
    "# X3 = Number of French toast makers produced\n",
    "# MIN 140X1 + 50X2 + 36X3\n",
    "# S.T.\n",
    "# 100X1 + 35X2 + 27X3  2,000,000 (Min Profit)\n",
    "# X1  5,000 (Min Refrig/oven)\n",
    "# X2  4,000 (Min French fry maker)\n",
    "# X3  2,300 (Min French toast maker)\n",
    "# X1  15,000 (Max Refrig/oven)\n",
    "# X2  15,000 (Max French fry maker)\n",
    "# X3  15,000 (Max French toast maker)"
   ],
   "metadata": {
    "collapsed": false,
    "pycharm": {
     "name": "#%%\n"
    }
   }
  },
  {
   "cell_type": "code",
   "execution_count": 4,
   "outputs": [],
   "source": [
    "# defining the type of problem\n",
    "applianceProblem = LpProblem(\"Appliance_Production_Problem\", LpMinimize)"
   ],
   "metadata": {
    "collapsed": false,
    "pycharm": {
     "name": "#%%\n"
    }
   }
  },
  {
   "cell_type": "code",
   "execution_count": 5,
   "outputs": [],
   "source": [
    "# Decision Variables with their lower bounds\n",
    "x1 = LpVariable(\"x1\", 0) # Number of refrigerator/ovens produced\n",
    "x2 = LpVariable(\"x2\", 0) # Number of French fry makers produced\n",
    "x3 = LpVariable(\"x3\", 0) # Number of French toast makers produced\n"
   ],
   "metadata": {
    "collapsed": false,
    "pycharm": {
     "name": "#%%\n"
    }
   }
  },
  {
   "cell_type": "code",
   "execution_count": 6,
   "outputs": [],
   "source": [
    "# Objective function to be maximized\n",
    "applianceProblem += 140*x1 + 50*x2 + 36*x3"
   ],
   "metadata": {
    "collapsed": false,
    "pycharm": {
     "name": "#%%\n"
    }
   }
  },
  {
   "cell_type": "code",
   "execution_count": 8,
   "outputs": [],
   "source": [
    "# constraint for standard & industrial production problem\n",
    "applianceProblem += 100*x1 + 35*x2 + 27*x3 >= 2000000\n",
    "applianceProblem += 1*x1 >= 5000\n",
    "applianceProblem += 1*x2 >= 4000\n",
    "applianceProblem += 1*x3 >= 2300\n",
    "applianceProblem += 1*x1 <= 15000\n",
    "applianceProblem += 1*x2 <= 15000\n",
    "applianceProblem += 1*x3 <= 15000"
   ],
   "metadata": {
    "collapsed": false,
    "pycharm": {
     "name": "#%%\n"
    }
   }
  },
  {
   "cell_type": "code",
   "execution_count": 9,
   "outputs": [
    {
     "data": {
      "text/plain": "1"
     },
     "execution_count": 9,
     "metadata": {},
     "output_type": "execute_result"
    }
   ],
   "source": [
    "# solving the problem\n",
    "applianceProblem.solve()"
   ],
   "metadata": {
    "collapsed": false,
    "pycharm": {
     "name": "#%%\n"
    }
   }
  },
  {
   "cell_type": "code",
   "execution_count": 10,
   "outputs": [
    {
     "name": "stdout",
     "output_type": "stream",
     "text": [
      "status:  Optimal\n"
     ]
    }
   ],
   "source": [
    "\n",
    "# printing the status of the LP problem\n",
    "print(\"status: \", LpStatus[applianceProblem.status])\n"
   ],
   "metadata": {
    "collapsed": false,
    "pycharm": {
     "name": "#%%\n"
    }
   }
  },
  {
   "cell_type": "code",
   "execution_count": 11,
   "outputs": [
    {
     "name": "stdout",
     "output_type": "stream",
     "text": [
      "x1  =  14550.0\n",
      "x2  =  4000.0\n",
      "x3  =  15000.0\n"
     ]
    }
   ],
   "source": [
    "\n",
    "for variable in applianceProblem.variables():\n",
    "    print(variable.name, \" = \", variable.varValue)\n"
   ],
   "metadata": {
    "collapsed": false,
    "pycharm": {
     "name": "#%%\n"
    }
   }
  },
  {
   "cell_type": "code",
   "execution_count": 12,
   "outputs": [
    {
     "name": "stdout",
     "output_type": "stream",
     "text": [
      "Optimal solution for the objective function { 400*x1 + 560*x2 + 560*x3 + 700*x4 } is  2777000.0\n"
     ]
    }
   ],
   "source": [
    "\n",
    "print(\"Optimal solution for the objective function { 400*x1 + 560*x2 + 560*x3 + 700*x4 } is \", value(applianceProblem.objective))"
   ],
   "metadata": {
    "collapsed": false,
    "pycharm": {
     "name": "#%%\n"
    }
   }
  },
  {
   "cell_type": "code",
   "execution_count": null,
   "outputs": [],
   "source": [],
   "metadata": {
    "collapsed": false,
    "pycharm": {
     "name": "#%%\n"
    }
   }
  },
  {
   "cell_type": "markdown",
   "source": [],
   "metadata": {
    "collapsed": false
   }
  }
 ],
 "metadata": {
  "kernelspec": {
   "display_name": "Python 3",
   "language": "python",
   "name": "python3"
  },
  "language_info": {
   "codemirror_mode": {
    "name": "ipython",
    "version": 2
   },
   "file_extension": ".py",
   "mimetype": "text/x-python",
   "name": "python",
   "nbconvert_exporter": "python",
   "pygments_lexer": "ipython2",
   "version": "2.7.6"
  }
 },
 "nbformat": 4,
 "nbformat_minor": 0
}