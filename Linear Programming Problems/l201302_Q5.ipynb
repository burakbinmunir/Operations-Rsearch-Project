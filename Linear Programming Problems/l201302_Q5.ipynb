{
 "cells": [
  {
   "cell_type": "code",
   "execution_count": 61,
   "outputs": [],
   "source": [
    "from pulp import *"
   ],
   "metadata": {
    "collapsed": false,
    "pycharm": {
     "name": "#%%\n"
    }
   }
  },
  {
   "cell_type": "code",
   "execution_count": 63,
   "outputs": [],
   "source": [
    "#                                                 Unit Profit\n",
    "#\n",
    "# X1 = Number of full comforters produced daily 19-3(.50)-55(.20) = 6.50\n",
    "# X2 = Number of queen comforters produced daily 26-4(.50)-75(.20) = 9.00\n",
    "# X3 = Number of king comforters produced daily 32-6(.50)-95(.20) = 10.00\n",
    "# MAX 6.50X1 + 9.00X2 + 10.00X3\n",
    "# S.T.\n",
    "# 3X1 + 4X2 + 6X3  2,700 (Stuffing)\n",
    "# 55X1 + 75X2 + 95X3  48,000 (Fabric)\n",
    "# 3X1 + 5X2 + 6X3  3,000 (Cutting minutes)\n",
    "# 5X1 + 6X2 + 8X3  12,000 (Sewing minutes)\n",
    "#\n",
    "# All X's  120"
   ],
   "metadata": {
    "collapsed": false,
    "pycharm": {
     "name": "#%%\n"
    }
   }
  },
  {
   "cell_type": "code",
   "execution_count": 68,
   "outputs": [],
   "source": [
    "# defining the type of problem\n",
    "comforterProblem = LpProblem(\"Comfortor_Production_Problem\", LpMaximize)"
   ],
   "metadata": {
    "collapsed": false,
    "pycharm": {
     "name": "#%%\n"
    }
   }
  },
  {
   "cell_type": "code",
   "execution_count": 66,
   "outputs": [],
   "source": [
    "# Decision Variables with their lower bounds\n",
    "x1 = LpVariable(\"x1\", 0) # Number of full comforters produced daily\n",
    "x2 = LpVariable(\"x2\", 0) # Number of queen comforters produced daily\n",
    "x3 = LpVariable(\"x3\", 0) # Number of king comforters produced daily"
   ],
   "metadata": {
    "collapsed": false,
    "pycharm": {
     "name": "#%%\n"
    }
   }
  },
  {
   "cell_type": "code",
   "execution_count": 70,
   "outputs": [],
   "source": [
    "# Objective function to be maximized for comforter production problem\n",
    "comforterProblem += 6.50*x1 + 9.00*x2 + 10.00*x3"
   ],
   "metadata": {
    "collapsed": false,
    "pycharm": {
     "name": "#%%\n"
    }
   }
  },
  {
   "cell_type": "code",
   "execution_count": 88,
   "outputs": [],
   "source": [
    "# constraint for comforter production comforterProblem\n",
    "comforterProblem += 3*x1 + 4*x2 + 6*x3 <= 2700\n",
    "comforterProblem +=55*x1 + 75*x2 + 95*x3 <= 48000\n",
    "comforterProblem +=3*x1 + 5*x2 + 6*x3 <= 3000\n",
    "comforterProblem +=5*x1 + 6*x2 + 8*x3 <= 12000"
   ],
   "metadata": {
    "collapsed": false,
    "pycharm": {
     "name": "#%%\n"
    }
   }
  },
  {
   "cell_type": "code",
   "execution_count": 91,
   "outputs": [
    {
     "data": {
      "text/plain": "1"
     },
     "execution_count": 91,
     "metadata": {},
     "output_type": "execute_result"
    }
   ],
   "source": [
    "# determining the solution to the comforter problem\n",
    "comforterProblem.solve()"
   ],
   "metadata": {
    "collapsed": false,
    "pycharm": {
     "name": "#%%\n"
    }
   }
  },
  {
   "cell_type": "code",
   "execution_count": 92,
   "outputs": [
    {
     "name": "stdout",
     "output_type": "stream",
     "text": [
      "status:  Optimal\n"
     ]
    }
   ],
   "source": [
    "\n",
    "# printing the status of the LP problem\n",
    "print(\"status: \", LpStatus[comforterProblem.status])"
   ],
   "metadata": {
    "collapsed": false,
    "pycharm": {
     "name": "#%%\n"
    }
   }
  },
  {
   "cell_type": "code",
   "execution_count": 93,
   "outputs": [
    {
     "name": "stdout",
     "output_type": "stream",
     "text": [
      "x1  =  300.0\n",
      "x2  =  420.0\n",
      "x3  =  0.0\n"
     ]
    }
   ],
   "source": [
    "\n",
    "for variable in comforterProblem.variables():\n",
    "    print(variable.name, \" = \", variable.varValue)"
   ],
   "metadata": {
    "collapsed": false,
    "pycharm": {
     "name": "#%%\n"
    }
   }
  },
  {
   "cell_type": "code",
   "execution_count": 95,
   "outputs": [
    {
     "name": "stdout",
     "output_type": "stream",
     "text": [
      "Optimal solution for the objective function { 6.50*x1 + 9.00*x2 + 10.00*x3 } is  5730.0\n"
     ]
    }
   ],
   "source": [
    "\n",
    "print(\"Optimal solution for the objective function { 6.50*x1 + 9.00*x2 + 10.00*x3 } is \", value(comforterProblem.objective))"
   ],
   "metadata": {
    "collapsed": false,
    "pycharm": {
     "name": "#%%\n"
    }
   }
  }
 ],
 "metadata": {
  "kernelspec": {
   "display_name": "Python 3",
   "language": "python",
   "name": "python3"
  },
  "language_info": {
   "codemirror_mode": {
    "name": "ipython",
    "version": 2
   },
   "file_extension": ".py",
   "mimetype": "text/x-python",
   "name": "python",
   "nbconvert_exporter": "python",
   "pygments_lexer": "ipython2",
   "version": "2.7.6"
  }
 },
 "nbformat": 4,
 "nbformat_minor": 0
}