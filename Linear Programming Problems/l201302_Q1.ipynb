{
 "cells": [
  {
   "cell_type": "code",
   "execution_count": 41,
   "metadata": {
    "collapsed": true
   },
   "outputs": [],
   "source": [
    "from pulp import *"
   ]
  },
  {
   "cell_type": "code",
   "execution_count": 42,
   "outputs": [],
   "source": [
    "\n",
    "\n",
    "                                        # Question : 1 Statement\n",
    "                                        # x1 = Number of 20-inch girls bicycles produced this week\n",
    "                                        # x2 = Number of 20-inch boys bicycles produced this week\n",
    "                                        # x3 = Number of 26-inch girls bicycles produced this week\n",
    "                                        # x4 = Number of 26-inch boys bicycles produced this week\n",
    "                                        # MAX 27x1 + 32x2 + 38x3 + 51x4\n",
    "                                        # S.T.\n",
    "                                        # x1 + x3  200 (Min girls models)\n",
    "                                        # x2 + x4  200 (Min boys models)\n",
    "                                        # 12x1 + 12x2 + 9x3 + 9x4  4800 (Production minutes)\n",
    "                                        # 6x1 + 9x2 + 12x3 + 18x4  4800 (Assembly minutes)\n",
    "                                        # 2x1 + 2x2  500 (20-inch tires)\n",
    "                                        # 2x3 + 2x4  800 (26-inch tires)\n",
    "                                        # All X's  0"
   ],
   "metadata": {
    "collapsed": false,
    "pycharm": {
     "name": "#%%\n"
    }
   }
  },
  {
   "cell_type": "code",
   "execution_count": 43,
   "outputs": [],
   "source": [
    "# defining the type of problem\n",
    "bicycleProblem = LpProblem(\"Bicycle_Production_Problem\", LpMaximize)"
   ],
   "metadata": {
    "collapsed": false,
    "pycharm": {
     "name": "#%%\n"
    }
   }
  },
  {
   "cell_type": "code",
   "execution_count": 44,
   "outputs": [],
   "source": [
    "# Decision Variables with their lower bounds\n",
    "x1 = LpVariable(\"x1\", 0)\n",
    "x2 = LpVariable(\"x2\", 0)\n",
    "x3 = LpVariable(\"x3\", 0)\n",
    "x4 = LpVariable(\"x4\", 0)"
   ],
   "metadata": {
    "collapsed": false,
    "pycharm": {
     "name": "#%%\n"
    }
   }
  },
  {
   "cell_type": "code",
   "execution_count": 45,
   "outputs": [],
   "source": [
    "\n",
    "# Defining the objective function\n",
    "bicycleProblem += 27*x1 + 32*x2 + 38*x3 + 51*x4"
   ],
   "metadata": {
    "collapsed": false,
    "pycharm": {
     "name": "#%%\n"
    }
   }
  },
  {
   "cell_type": "code",
   "execution_count": 46,
   "outputs": [],
   "source": [
    "\n",
    "# Defining constraints of Bicycle problem\n",
    "\n",
    "bicycleProblem += 1*x1 + 1*x3 >= 200, \"Min girls models\"\n",
    "bicycleProblem += 1*x2 + 1*x4 >= 200, \"Min boys models\"\n",
    "bicycleProblem += 12*x1 + 12*x2 + 9*x3 + 9*x4 <= 4800, \"Production Minutes\"\n",
    "bicycleProblem += 6*x1 + 9*x2 + 12*x3 + 18*x4 <= 4800, \"Assembly minutes\"\n",
    "bicycleProblem += 2*x1 + 2*x2 <= 500,\"20 inch tires\"\n",
    "bicycleProblem += 2*x3 + 2*x4 <= 800, \"26 inch tires\"\n"
   ],
   "metadata": {
    "collapsed": false,
    "pycharm": {
     "name": "#%%\n"
    }
   }
  },
  {
   "cell_type": "code",
   "execution_count": 47,
   "outputs": [
    {
     "data": {
      "text/plain": "1"
     },
     "execution_count": 47,
     "metadata": {},
     "output_type": "execute_result"
    }
   ],
   "source": [
    "\n",
    "# solving the problem\n",
    "bicycleProblem.solve()\n"
   ],
   "metadata": {
    "collapsed": false,
    "pycharm": {
     "name": "#%%\n"
    }
   }
  },
  {
   "cell_type": "code",
   "execution_count": 48,
   "outputs": [
    {
     "name": "stdout",
     "output_type": "stream",
     "text": [
      "status:  Optimal\n"
     ]
    }
   ],
   "source": [
    "\n",
    "# printing the status of the LP problem\n",
    "print(\"status: \", LpStatus[bicycleProblem.status])\n"
   ],
   "metadata": {
    "collapsed": false,
    "pycharm": {
     "name": "#%%\n"
    }
   }
  },
  {
   "cell_type": "code",
   "execution_count": 49,
   "outputs": [
    {
     "name": "stdout",
     "output_type": "stream",
     "text": [
      "x1  =  150.0\n",
      "x2  =  100.0\n",
      "x3  =  100.0\n",
      "x4  =  100.0\n"
     ]
    }
   ],
   "source": [
    "\n",
    "for variable in bicycleProblem.variables():\n",
    "    print(variable.name, \" = \", variable.varValue)"
   ],
   "metadata": {
    "collapsed": false,
    "pycharm": {
     "name": "#%%\n"
    }
   }
  },
  {
   "cell_type": "code",
   "execution_count": 50,
   "outputs": [
    {
     "name": "stdout",
     "output_type": "stream",
     "text": [
      "Optimal solution for the objective function 27x1 + 32x2 + 38x3 + 51x4 is  16150.0\n"
     ]
    }
   ],
   "source": [
    "\n",
    "print(\"Optimal solution for the objective function 27x1 + 32x2 + 38x3 + 51x4 is \", value(bicycleProblem.objective))"
   ],
   "metadata": {
    "collapsed": false,
    "pycharm": {
     "name": "#%%\n"
    }
   }
  },
  {
   "cell_type": "code",
   "execution_count": null,
   "outputs": [],
   "source": [],
   "metadata": {
    "collapsed": false,
    "pycharm": {
     "name": "#%%\n"
    }
   }
  }
 ],
 "metadata": {
  "kernelspec": {
   "display_name": "Python 3",
   "language": "python",
   "name": "python3"
  },
  "language_info": {
   "codemirror_mode": {
    "name": "ipython",
    "version": 2
   },
   "file_extension": ".py",
   "mimetype": "text/x-python",
   "name": "python",
   "nbconvert_exporter": "python",
   "pygments_lexer": "ipython2",
   "version": "2.7.6"
  }
 },
 "nbformat": 4,
 "nbformat_minor": 0
}