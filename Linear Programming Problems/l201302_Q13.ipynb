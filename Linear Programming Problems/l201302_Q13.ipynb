{
 "cells": [
  {
   "cell_type": "code",
   "execution_count": null,
   "metadata": {
    "collapsed": true
   },
   "outputs": [],
   "source": []
  },
  {
   "cell_type": "code",
   "execution_count": 1,
   "outputs": [],
   "source": [
    "from pulp import *"
   ],
   "metadata": {
    "collapsed": false,
    "pycharm": {
     "name": "#%%\n"
    }
   }
  },
  {
   "cell_type": "code",
   "execution_count": 2,
   "outputs": [],
   "source": [
    "# X1 = $ invested in first trust deeds\n",
    "# X2 = $ invested in second trust deeds\n",
    "# X3 = $ invested in third trust deeds\n",
    "# X4 = $ invested in commercial trust deeds\n",
    "# X5 = $ invested in a savings account\n",
    "# X6 = Total $ invested in residential trust deeds\n",
    "# X7 = Total $ invested in all trust deeds\n",
    "# MAX .0775X1 +.1125X2 +.1425X3 +.9875X4 +.0445X5\n",
    "# S.T.\n",
    "# X1 + X2 + X3 + X4 + X5 = 68,000,000 (Total)\n",
    "# X5  5,000,000 (Save)\n",
    "# X1 + X2 + X3 + - X6 = 0 (Res Tr.)\n",
    "# X1 + X2 + X3 + X4 -X7 = 0 (Total Tr)\n",
    "# X6 - .8X7  0 (80% Res.)\n",
    "# X1 -.6X6  0 (60% First)\n",
    "# 4X1 + 6X2 + 9X3 + 3X4 340,000,000 (*)\n",
    "#\n",
    "# All X's  0\n",
    "#\n",
    "# *Average Risk Factor is found by:\n",
    "#\n",
    "# 68,000,000\n",
    "# X\n",
    "# 0\n",
    "# 68,000,000\n",
    "# X\n",
    "# 3\n",
    "# 68,000,000\n",
    "# X\n",
    "# 9\n",
    "# 68,000,000\n",
    "# X\n",
    "# 6\n",
    "# 68,000,000\n",
    "# X\n",
    "# 4\n",
    "# 1 2 3 4 5 + + + +\n",
    "#\n",
    "# This expression must be  5. Multiplying both sides by 68,000,000 gives the above constraint."
   ],
   "metadata": {
    "collapsed": false,
    "pycharm": {
     "name": "#%%\n"
    }
   }
  },
  {
   "cell_type": "code",
   "execution_count": 3,
   "outputs": [],
   "source": [
    "# defining the type of problem\n",
    "investmentProblem = LpProblem(\"Turst_Amount_Investment_Problem\", LpMaximize)"
   ],
   "metadata": {
    "collapsed": false,
    "pycharm": {
     "name": "#%%\n"
    }
   }
  },
  {
   "cell_type": "code",
   "execution_count": 4,
   "outputs": [],
   "source": [
    "# Decision Variables with their lower bounds\n",
    "x1 = LpVariable(\"x1\", 0) # $ invested in first trust deeds\n",
    "x2 = LpVariable(\"x2\", 0) # $ invested in second trust deeds\n",
    "x3 = LpVariable(\"x3\", 0) # $ invested in third trust deeds\n",
    "x4 = LpVariable(\"x4\", 0) # $ invested in commercial trust deeds\n",
    "x5 = LpVariable(\"x5\", 0) # $ invested in a savings account\n",
    "x6 = LpVariable(\"x6\", 0) # Total $ invested in residential trust deeds\n",
    "x7 = LpVariable(\"x7\", 0) # Total $ invested in all trust deeds"
   ],
   "metadata": {
    "collapsed": false,
    "pycharm": {
     "name": "#%%\n"
    }
   }
  },
  {
   "cell_type": "code",
   "execution_count": 5,
   "outputs": [],
   "source": [
    "# Objective function to be maximized for comforter production problem\n",
    "investmentProblem += 0.0775*x1 +0.1125*x2 +0.1425*x3 + 0.9875*x4 + 0.0445*x5"
   ],
   "metadata": {
    "collapsed": false,
    "pycharm": {
     "name": "#%%\n"
    }
   }
  },
  {
   "cell_type": "code",
   "execution_count": 8,
   "outputs": [],
   "source": [
    "# constraint for comforter production comforterProblem\n",
    "investmentProblem += 1*x1 + 1*x2 + 1*x3 + 1*x4 + 1*x5 == 68000000\n",
    "investmentProblem += 1*x5 >= 5000000\n",
    "investmentProblem += 1*x1 + 1*x2 + 1*x3 - 1*x6 == 0\n",
    "investmentProblem += 1*x1 + 1*x2 + 1*x3 + 1*x4 - 1*x7 == 0\n",
    "investmentProblem += 1*x6 - 0.8*x7 >= 0\n",
    "investmentProblem += 1*x1 - 0.6*x6 >= 0\n",
    "investmentProblem += 4*x1 + 6*x2 + 9*x3 + 3*x4 <= 340000000"
   ],
   "metadata": {
    "collapsed": false,
    "pycharm": {
     "name": "#%%\n"
    }
   }
  },
  {
   "cell_type": "code",
   "execution_count": 9,
   "outputs": [
    {
     "data": {
      "text/plain": "1"
     },
     "execution_count": 9,
     "metadata": {},
     "output_type": "execute_result"
    }
   ],
   "source": [
    "# determining the solution to the comforter problem\n",
    "investmentProblem.solve()"
   ],
   "metadata": {
    "collapsed": false,
    "pycharm": {
     "name": "#%%\n"
    }
   }
  },
  {
   "cell_type": "code",
   "execution_count": 10,
   "outputs": [
    {
     "name": "stdout",
     "output_type": "stream",
     "text": [
      "status:  Optimal\n"
     ]
    }
   ],
   "source": [
    "\n",
    "# printing the status of the LP problem\n",
    "print(\"status: \", LpStatus[investmentProblem.status])"
   ],
   "metadata": {
    "collapsed": false,
    "pycharm": {
     "name": "#%%\n"
    }
   }
  },
  {
   "cell_type": "code",
   "execution_count": 11,
   "outputs": [
    {
     "name": "stdout",
     "output_type": "stream",
     "text": [
      "x1  =  30240000.0\n",
      "x2  =  66666.667\n",
      "x3  =  20093333.0\n",
      "x4  =  12600000.0\n",
      "x5  =  5000000.0\n",
      "x6  =  50400000.0\n",
      "x7  =  63000000.0\n"
     ]
    }
   ],
   "source": [
    "\n",
    "for variable in investmentProblem.variables():\n",
    "    print(variable.name, \" = \", variable.varValue)"
   ],
   "metadata": {
    "collapsed": false,
    "pycharm": {
     "name": "#%%\n"
    }
   }
  },
  {
   "cell_type": "code",
   "execution_count": 13,
   "outputs": [
    {
     "name": "stdout",
     "output_type": "stream",
     "text": [
      "Optimal solution for the objective function { 0.0775*x1 +0.1125*x2 +0.1425*x3 + 0.9875*x4 + 0.0445*x5 } is  17879399.9525375\n"
     ]
    }
   ],
   "source": [
    "\n",
    "print(\"Optimal solution for the objective function { 0.0775*x1 +0.1125*x2 +0.1425*x3 + 0.9875*x4 + 0.0445*x5 } is \", value(investmentProblem.objective))"
   ],
   "metadata": {
    "collapsed": false,
    "pycharm": {
     "name": "#%%\n"
    }
   }
  },
  {
   "cell_type": "code",
   "execution_count": null,
   "outputs": [],
   "source": [],
   "metadata": {
    "collapsed": false,
    "pycharm": {
     "name": "#%%\n"
    }
   }
  }
 ],
 "metadata": {
  "kernelspec": {
   "display_name": "Python 3",
   "language": "python",
   "name": "python3"
  },
  "language_info": {
   "codemirror_mode": {
    "name": "ipython",
    "version": 2
   },
   "file_extension": ".py",
   "mimetype": "text/x-python",
   "name": "python",
   "nbconvert_exporter": "python",
   "pygments_lexer": "ipython2",
   "version": "2.7.6"
  }
 },
 "nbformat": 4,
 "nbformat_minor": 0
}