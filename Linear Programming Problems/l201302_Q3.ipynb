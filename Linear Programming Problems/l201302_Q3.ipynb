{
 "cells": [
  {
   "cell_type": "code",
   "execution_count": 54,
   "outputs": [],
   "source": [
    "from pulp import *"
   ],
   "metadata": {
    "collapsed": false,
    "pycharm": {
     "name": "#%%\n"
    }
   }
  },
  {
   "cell_type": "code",
   "execution_count": 55,
   "outputs": [],
   "source": [
    "# X1 = the number of standard Z345’s produced weekly\n",
    "# X2 = the number of industrial Z345’s produced weekly\n",
    "# X3 = the number of standard W250’s produced weekly\n",
    "# X4 = the number of industrial W250’s produced weekly\n",
    "# X5 = the total number of products produced weekly\n",
    "# MAX 400X1 + 560X2 + 560X3 + 700X4\n",
    "# S.T. 25X1 + 46X2 + 16X3 + 34X4  2500 (zinc)\n",
    "# 50X1 + 30X2 + 28X3 + 12X4  2800 (iron)\n",
    "# X1 + X2  20 (Min Z345’s)\n",
    "# X1 + X2 + X3 + X4 - X5 = 0 (X5 definition)\n",
    "# X2 + X4 - .50X5  0 (Industrial min.)\n",
    "# X1 + X2 - .75X5  0 (Max Z345’s)\n",
    "# X3 + X4 - .75X5  0 (Max W250’s)\n",
    "#\n",
    "# X1, X2, X3, X4, X5  0"
   ],
   "metadata": {
    "collapsed": false,
    "pycharm": {
     "name": "#%%\n"
    }
   }
  },
  {
   "cell_type": "code",
   "execution_count": 56,
   "outputs": [],
   "source": [
    "# defining the type of problem\n",
    "problem = LpProblem(\"Standard_Industrial_Problem\", LpMaximize)"
   ],
   "metadata": {
    "collapsed": false,
    "pycharm": {
     "name": "#%%\n"
    }
   }
  },
  {
   "cell_type": "code",
   "execution_count": 57,
   "outputs": [],
   "source": [
    "# Decision Variables with their lower bounds\n",
    "x1 = LpVariable(\"x1\", 0) # the number of standard Z345’s produced weekly\n",
    "x2 = LpVariable(\"x2\", 0) # the number of industrial Z345’s produced weekly\n",
    "x3 = LpVariable(\"x3\", 0) # the number of standard W250’s produced weekly\n",
    "x4 = LpVariable(\"x4\", 0) # the number of industrial W250’s produced weekly\n",
    "x5 = LpVariable(\"x5\", 0) # the total number of products produced weekly"
   ],
   "metadata": {
    "collapsed": false,
    "pycharm": {
     "name": "#%%\n"
    }
   }
  },
  {
   "cell_type": "code",
   "execution_count": 58,
   "outputs": [],
   "source": [
    "# Objective function to be maximized\n",
    "problem += 400*x1 + 560*x2 + 560*x3 + 700*x4"
   ],
   "metadata": {
    "collapsed": false,
    "pycharm": {
     "name": "#%%\n"
    }
   }
  },
  {
   "cell_type": "code",
   "execution_count": 59,
   "outputs": [],
   "source": [
    "# constraint for standard & industrial production problem\n",
    "problem += 25*x1 + 46*x2 + 16*x3 + 34*x4 <= 2500\n",
    "problem += 50*x1 + 30*x2 + 28*x3 + 12*x4 <= 2800\n",
    "problem += 1*x1 + 1*x2 >= 20\n",
    "problem += 1*x1 + 1*x2 + 1*x3 + 1*x4 - 1*x5 == 0\n",
    "problem += 1*x2 + 1*x4 - .50*x5 >= 0\n",
    "problem += 1*x1 + 1*x2 - .75*x5 <= 0\n",
    "problem += 1*x3 + 1*x4 - .75*x5 <= 0"
   ],
   "metadata": {
    "collapsed": false,
    "pycharm": {
     "name": "#%%\n"
    }
   }
  },
  {
   "cell_type": "code",
   "execution_count": 60,
   "outputs": [
    {
     "data": {
      "text/plain": "1"
     },
     "execution_count": 60,
     "metadata": {},
     "output_type": "execute_result"
    }
   ],
   "source": [
    "# solving the problem\n",
    "problem.solve()"
   ],
   "metadata": {
    "collapsed": false,
    "pycharm": {
     "name": "#%%\n"
    }
   }
  },
  {
   "cell_type": "code",
   "execution_count": 61,
   "outputs": [
    {
     "name": "stdout",
     "output_type": "stream",
     "text": [
      "status:  Optimal\n"
     ]
    }
   ],
   "source": [
    "\n",
    "# printing the status of the LP problem\n",
    "print(\"status: \", LpStatus[problem.status])\n"
   ],
   "metadata": {
    "collapsed": false,
    "pycharm": {
     "name": "#%%\n"
    }
   }
  },
  {
   "cell_type": "code",
   "execution_count": 62,
   "outputs": [
    {
     "name": "stdout",
     "output_type": "stream",
     "text": [
      "x1  =  22.93578\n",
      "x2  =  0.0\n",
      "x3  =  22.93578\n",
      "x4  =  45.87156\n",
      "x5  =  91.743119\n"
     ]
    }
   ],
   "source": [
    "\n",
    "for variable in problem.variables():\n",
    "    print(variable.name, \" = \", variable.varValue)\n"
   ],
   "metadata": {
    "collapsed": false,
    "pycharm": {
     "name": "#%%\n"
    }
   }
  },
  {
   "cell_type": "code",
   "execution_count": 63,
   "outputs": [
    {
     "name": "stdout",
     "output_type": "stream",
     "text": [
      "Optimal solution for the objective function { 400*x1 + 560*x2 + 560*x3 + 700*x4 } is  54128.4408\n"
     ]
    }
   ],
   "source": [
    "\n",
    "print(\"Optimal solution for the objective function { 400*x1 + 560*x2 + 560*x3 + 700*x4 } is \", value(problem.objective))"
   ],
   "metadata": {
    "collapsed": false,
    "pycharm": {
     "name": "#%%\n"
    }
   }
  }
 ],
 "metadata": {
  "kernelspec": {
   "display_name": "Python 3",
   "language": "python",
   "name": "python3"
  },
  "language_info": {
   "codemirror_mode": {
    "name": "ipython",
    "version": 2
   },
   "file_extension": ".py",
   "mimetype": "text/x-python",
   "name": "python",
   "nbconvert_exporter": "python",
   "pygments_lexer": "ipython2",
   "version": "2.7.6"
  }
 },
 "nbformat": 4,
 "nbformat_minor": 0
}