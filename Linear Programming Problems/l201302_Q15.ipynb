{
 "cells": [
  {
   "cell_type": "code",
   "execution_count": null,
   "metadata": {
    "collapsed": true
   },
   "outputs": [],
   "source": []
  },
  {
   "cell_type": "code",
   "execution_count": 1,
   "outputs": [],
   "source": [
    "from pulp import *"
   ],
   "metadata": {
    "collapsed": false,
    "pycharm": {
     "name": "#%%\n"
    }
   }
  },
  {
   "cell_type": "code",
   "execution_count": 2,
   "outputs": [],
   "source": [
    "# X1 = the number of acres of wheat planted\n",
    "# X2 = the number of acres of corn planted\n",
    "# X3 = the number of acres of oats planted\n",
    "# X4 = the number of acres of soybeans planted\n",
    "# Profit coefficients are 210($3.20) - $50 = $622, 300($2.55) - $75 = $690,\n",
    "# 180($1.45) - $30 = $231, and 240($3.10) - $60 = $684 respectively.\n",
    "# MAX 622X1 + 690X2 + 231X3 + 684X4\n",
    "# S.T. 4X1 + 5X2 + 3X3 + 10X4  1,800 (Labor hours)\n",
    "# 50X1 + 75X2 + 30X3 + 60X4  25,000 (Expenses)\n",
    "# 2X1 + 6X2 + X3 + 4X4  1,200 (Water)\n",
    "# 210X1  30,000 (Min. Wheat)\n",
    "# 300X2  30,000 (Min. Corn)\n",
    "# 180X3  25,000 (Max Oats)\n",
    "# X1 + X2 + X3 + X4  300 (Total acres)"
   ],
   "metadata": {
    "collapsed": false,
    "pycharm": {
     "name": "#%%\n"
    }
   }
  },
  {
   "cell_type": "code",
   "execution_count": 3,
   "outputs": [],
   "source": [
    "# defining the type of problem\n",
    "plantProblem = LpProblem(\"Plantation_Problem\", LpMaximize)"
   ],
   "metadata": {
    "collapsed": false,
    "pycharm": {
     "name": "#%%\n"
    }
   }
  },
  {
   "cell_type": "code",
   "execution_count": 4,
   "outputs": [],
   "source": [
    "# Decision Variables with their lower bounds\n",
    "x1 = LpVariable(\"x1\", 0) # the number of acres of wheat planted\n",
    "x2 = LpVariable(\"x2\", 0) # the number of acres of corn planted\n",
    "x3 = LpVariable(\"x3\", 0) # the number of acres of oats planted\n",
    "x4 = LpVariable(\"x4\", 0) # the number of acres of soybeans planted"
   ],
   "metadata": {
    "collapsed": false,
    "pycharm": {
     "name": "#%%\n"
    }
   }
  },
  {
   "cell_type": "code",
   "execution_count": 5,
   "outputs": [],
   "source": [
    "# Objective function to be maximized\n",
    "plantProblem += 622*x1 + 690*x2 + 231*x3 + 684*x4"
   ],
   "metadata": {
    "collapsed": false,
    "pycharm": {
     "name": "#%%\n"
    }
   }
  },
  {
   "cell_type": "code",
   "execution_count": 6,
   "outputs": [],
   "source": [
    "# constraint for standard & industrial production problem\n",
    "plantProblem += 4*x1 + 5*x2 + 3*x3 + 10*x4 <= 1800\n",
    "plantProblem += 50*x1 + 75*x2 + 30*x3 + 60*x4 <= 25000\n",
    "plantProblem += 2*x1 + 6*x2 + 1*x3 + 4*x4 <= 1200\n",
    "plantProblem += 210*x1 >= 30000\n",
    "plantProblem += 300*x2 >= 30000\n",
    "plantProblem += 180*x3 <= 25000\n",
    "plantProblem += 1*x1 + 1*x2 + 1*x3 +  1*x4 <= 300"
   ],
   "metadata": {
    "collapsed": false,
    "pycharm": {
     "name": "#%%\n"
    }
   }
  },
  {
   "cell_type": "code",
   "execution_count": 7,
   "outputs": [
    {
     "data": {
      "text/plain": "1"
     },
     "execution_count": 7,
     "metadata": {},
     "output_type": "execute_result"
    }
   ],
   "source": [
    "# solving the problem\n",
    "plantProblem.solve()"
   ],
   "metadata": {
    "collapsed": false,
    "pycharm": {
     "name": "#%%\n"
    }
   }
  },
  {
   "cell_type": "code",
   "execution_count": 8,
   "outputs": [
    {
     "name": "stdout",
     "output_type": "stream",
     "text": [
      "status:  Optimal\n"
     ]
    }
   ],
   "source": [
    "\n",
    "# printing the status of the LP problem\n",
    "print(\"status: \", LpStatus[plantProblem.status])\n"
   ],
   "metadata": {
    "collapsed": false,
    "pycharm": {
     "name": "#%%\n"
    }
   }
  },
  {
   "cell_type": "code",
   "execution_count": 9,
   "outputs": [
    {
     "name": "stdout",
     "output_type": "stream",
     "text": [
      "x1  =  142.85714\n",
      "x2  =  142.85714\n",
      "x3  =  0.0\n",
      "x4  =  14.285714\n"
     ]
    }
   ],
   "source": [
    "\n",
    "for variable in plantProblem.variables():\n",
    "    print(variable.name, \" = \", variable.varValue)\n"
   ],
   "metadata": {
    "collapsed": false,
    "pycharm": {
     "name": "#%%\n"
    }
   }
  },
  {
   "cell_type": "code",
   "execution_count": 11,
   "outputs": [
    {
     "name": "stdout",
     "output_type": "stream",
     "text": [
      "Optimal solution for the objective function { 622*x1 + 690*x2 + 231*x3 + 684*x4 } is  197199.99605599997\n"
     ]
    }
   ],
   "source": [
    "\n",
    "print(\"Optimal solution for the objective function { 622*x1 + 690*x2 + 231*x3 + 684*x4 } is \", value(plantProblem.objective))"
   ],
   "metadata": {
    "collapsed": false,
    "pycharm": {
     "name": "#%%\n"
    }
   }
  },
  {
   "cell_type": "code",
   "execution_count": null,
   "outputs": [],
   "source": [],
   "metadata": {
    "collapsed": false,
    "pycharm": {
     "name": "#%%\n"
    }
   }
  }
 ],
 "metadata": {
  "kernelspec": {
   "display_name": "Python 3",
   "language": "python",
   "name": "python3"
  },
  "language_info": {
   "codemirror_mode": {
    "name": "ipython",
    "version": 2
   },
   "file_extension": ".py",
   "mimetype": "text/x-python",
   "name": "python",
   "nbconvert_exporter": "python",
   "pygments_lexer": "ipython2",
   "version": "2.7.6"
  }
 },
 "nbformat": 4,
 "nbformat_minor": 0
}