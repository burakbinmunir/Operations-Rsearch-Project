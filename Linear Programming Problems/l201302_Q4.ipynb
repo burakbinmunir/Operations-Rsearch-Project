{
 "cells": [
  {
   "cell_type": "code",
   "execution_count": 51,
   "metadata": {
    "collapsed": true
   },
   "outputs": [],
   "source": [
    "from pulp import *"
   ]
  },
  {
   "cell_type": "code",
   "execution_count": 52,
   "outputs": [],
   "source": [
    "# X1 = amount invested in EAL stock\n",
    "# X2 = amount invested in BRU stock\n",
    "# X3 = amount invested in TAT stock\n",
    "# X4 = amount invested in long term bonds\n",
    "# X5 = amount invested in short term bonds\n",
    "# X6 = amount invested in the tax deferred annuity\n",
    "# X7 = the total amount invested in stocks only\n",
    "# MAX .15X1 + .12 X2 + .09X3 + .11X4 + .085X5 + .06X6\n",
    "# S.T.\n",
    "# X1 + X2 + X3 + X4 + X5 + X6 = 50,000 (Total)\n",
    "# X6  10,000 (TDA)\n",
    "# X1 + X2 + X3 - X7 = 0 (Stocks)\n",
    "# X3 -.25X7  0 (Min TAT)\n",
    "# X4 + X5 - X7  0(Bond  stock)\n",
    "# X3 + X5 + X6  12,500 (Low %)\n",
    "#\n",
    "# All X's  0"
   ],
   "metadata": {
    "collapsed": false,
    "pycharm": {
     "name": "#%%\n"
    }
   }
  },
  {
   "cell_type": "code",
   "execution_count": 53,
   "outputs": [],
   "source": [
    "# defining the type of problem\n",
    "investmentProblem = LpProblem(\"Amount_Investment_Problem\", LpMaximize)\n"
   ],
   "metadata": {
    "collapsed": false,
    "pycharm": {
     "name": "#%%\n"
    }
   }
  },
  {
   "cell_type": "code",
   "execution_count": 54,
   "outputs": [],
   "source": [
    "# Decision Variables with their lower bounds\n",
    "x1 = LpVariable(\"x1\", 0)  # amount invested in EAL stock\n",
    "x2 = LpVariable(\"x2\", 0)  # amount invested in BRU stock\n",
    "x3 = LpVariable(\"x3\", 0)  # amount invested in TAT stock\n",
    "x4 = LpVariable(\"x4\", 0)  # amount invested in long term bonds\n",
    "x5 = LpVariable(\"x5\", 0)  # amount invested in short term bonds\n",
    "x6 = LpVariable(\"x6\", 0)  # amount invested in the tax deferred annuity\n",
    "x7 = LpVariable(\"x7\", 0)  # the total amount invested in stocks only"
   ],
   "metadata": {
    "collapsed": false,
    "pycharm": {
     "name": "#%%\n"
    }
   }
  },
  {
   "cell_type": "code",
   "execution_count": 55,
   "outputs": [],
   "source": [
    "# Object function subject to maximize\n",
    "investmentProblem += 0.15*x1 + 0.12 *x2 + 0.09*x3 + 0.11*x4 + 0.085*x5 + 0.06*x6"
   ],
   "metadata": {
    "collapsed": false,
    "pycharm": {
     "name": "#%%\n"
    }
   }
  },
  {
   "cell_type": "code",
   "execution_count": 56,
   "outputs": [],
   "source": [
    "# constraint subject to amount investment plan problem\n",
    "investmentProblem += 1*x1 + 1*x2 + 1*x3 + 1*x4 + 1*x5 + 1*x6 == 50000, \"Total\"\n",
    "investmentProblem += 1*x6 >= 10000, \"TDA\"\n",
    "investmentProblem += 1*x1 + 1*x2 + 1*x3 - 1*x7 == 0, \"Stocks\"\n",
    "investmentProblem += 1*x3 - 0.25*x7 >= 0, \"Min TAT\"\n",
    "investmentProblem += 1*x4 + 1*x5 - 1*x7 >= 0, \"Bond >= stock\"\n",
    "investmentProblem += 1*x3 + 1*x5 + 1*x6 <= 12500, \"Low %\""
   ],
   "metadata": {
    "collapsed": false,
    "pycharm": {
     "name": "#%%\n"
    }
   }
  },
  {
   "cell_type": "code",
   "execution_count": 57,
   "outputs": [
    {
     "data": {
      "text/plain": "1"
     },
     "execution_count": 57,
     "metadata": {},
     "output_type": "execute_result"
    }
   ],
   "source": [
    "# determining the solution to the problem\n",
    "investmentProblem.solve()"
   ],
   "metadata": {
    "collapsed": false,
    "pycharm": {
     "name": "#%%\n"
    }
   }
  },
  {
   "cell_type": "code",
   "execution_count": 58,
   "outputs": [
    {
     "name": "stdout",
     "output_type": "stream",
     "text": [
      "Status:  Optimal\n"
     ]
    }
   ],
   "source": [
    "print(\"Status: \", LpStatus[investmentProblem.status])"
   ],
   "metadata": {
    "collapsed": false,
    "pycharm": {
     "name": "#%%\n"
    }
   }
  },
  {
   "cell_type": "code",
   "execution_count": 59,
   "outputs": [
    {
     "name": "stdout",
     "output_type": "stream",
     "text": [
      "x1  =  7500.0\n",
      "x2  =  0.0\n",
      "x3  =  2500.0\n",
      "x4  =  30000.0\n",
      "x5  =  0.0\n",
      "x6  =  10000.0\n",
      "x7  =  10000.0\n"
     ]
    }
   ],
   "source": [
    "\n",
    "for variable in investmentProblem.variables():\n",
    "    print(variable.name, \" = \", variable.varValue)"
   ],
   "metadata": {
    "collapsed": false,
    "pycharm": {
     "name": "#%%\n"
    }
   }
  },
  {
   "cell_type": "code",
   "execution_count": 60,
   "outputs": [
    {
     "name": "stdout",
     "output_type": "stream",
     "text": [
      "Solution for the objective function { .15*x1 + .12 *x2 + .09*x3 + .11*x4 + .085*x5 + .06*x6 }   5250.0\n"
     ]
    }
   ],
   "source": [
    "print(\"Solution for the objective function { .15*x1 + .12 *x2 + .09*x3 + .11*x4 + .085*x5 + .06*x6 }  \", value(investmentProblem.objective))"
   ],
   "metadata": {
    "collapsed": false,
    "pycharm": {
     "name": "#%%\n"
    }
   }
  }
 ],
 "metadata": {
  "kernelspec": {
   "display_name": "Python 3",
   "language": "python",
   "name": "python3"
  },
  "language_info": {
   "codemirror_mode": {
    "name": "ipython",
    "version": 2
   },
   "file_extension": ".py",
   "mimetype": "text/x-python",
   "name": "python",
   "nbconvert_exporter": "python",
   "pygments_lexer": "ipython2",
   "version": "2.7.6"
  }
 },
 "nbformat": 4,
 "nbformat_minor": 0
}